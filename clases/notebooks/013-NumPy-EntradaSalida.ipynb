{
 "cells": [
  {
   "cell_type": "markdown",
   "metadata": {},
   "source": [
    "# NumPy: Entrada/Salida"
   ]
  },
  {
   "cell_type": "markdown",
   "metadata": {},
   "source": [
    "Por E/S (I/O en inglés) entendemos leer y escribir datos archivos. Es algo que necesitamos con relativa frecuencia, y en NumPy es muy sencillo de hacer. Para el caso de la **lectura** se usa la función `np.loadtxt`."
   ]
  },
  {
   "cell_type": "markdown",
   "metadata": {},
   "source": [
    "## Ejemplo datos calidad del aire "
   ]
  },
  {
   "cell_type": "code",
   "execution_count": 1,
   "metadata": {
    "scrolled": true
   },
   "outputs": [
    {
     "name": "stdout",
     "output_type": "stream",
     "text": [
      "﻿Estación: Barrio del Pilar;;;;\r\n",
      "Fecha;Hora;CO;NO2;O3\r\n",
      ";;mg/m³;µg/m³;µg/m³\r\n",
      "22/03/2016;01:00;0.2;14;73\r\n",
      "22/03/2016;02:00;0.2;10;77\r\n",
      "22/03/2016;03:00;0.2;9;75\r\n",
      "22/03/2016;04:00;0.2;3;81\r\n",
      "22/03/2016;05:00;0.2;3;81\r\n",
      "22/03/2016;06:00;0.2;6;79\r\n",
      "22/03/2016;07:00;0.2;24;59\r\n"
     ]
    }
   ],
   "source": [
    "# Linux command \n",
    "!head ../data/barrio_del_pilar-20160322.csv\n",
    "\n",
    "# Windows\n",
    "#!type ..\\data\\barrio_del_pilar-20160322.csv"
   ]
  },
  {
   "cell_type": "markdown",
   "metadata": {},
   "source": [
    "En primer lugar, importamos las librerías que vamos a usar: Numpy y Matplotlib. También usaremos `plt.ion()` para activar el modo interactivo de matplotlib."
   ]
  },
  {
   "cell_type": "code",
   "execution_count": 2,
   "metadata": {},
   "outputs": [],
   "source": [
    "import numpy as np\n",
    "import matplotlib.pyplot as plt"
   ]
  },
  {
   "cell_type": "code",
   "execution_count": 3,
   "metadata": {},
   "outputs": [],
   "source": [
    "plt.ion()"
   ]
  },
  {
   "cell_type": "markdown",
   "metadata": {},
   "source": [
    "### Cargando los datos\n",
    "\n",
    "Usaremos la función `loadtxt` para cargar los datos en un array. Usaremos los argumentos opcionales `skiprows`, `delimiter` y `usecols` para captar los datos que queremos."
   ]
  },
  {
   "cell_type": "code",
   "execution_count": 4,
   "metadata": {
    "scrolled": true
   },
   "outputs": [
    {
     "data": {
      "text/plain": [
       "array([[ 0.2, 14. , 73. ],\n",
       "       [ 0.2, 10. , 77. ],\n",
       "       [ 0.2,  9. , 75. ],\n",
       "       [ 0.2,  3. , 81. ],\n",
       "       [ 0.2,  3. , 81. ],\n",
       "       [ 0.2,  6. , 79. ],\n",
       "       [ 0.2, 24. , 59. ],\n",
       "       [ 0.3, 48. , 37. ],\n",
       "       [ 0.3, 40. , 43. ],\n",
       "       [ 0.3, 41. , 44. ]])"
      ]
     },
     "execution_count": 4,
     "metadata": {},
     "output_type": "execute_result"
    }
   ],
   "source": [
    "# loading the data:\n",
    "# ./data/barrio_del_pilar-20160322.csv\n",
    "data1 = np.loadtxt('../data/barrio_del_pilar-20160322.csv', skiprows=3, delimiter=';', usecols=(2,3,4))\n",
    "data1[:10,:]"
   ]
  },
  {
   "cell_type": "markdown",
   "metadata": {},
   "source": [
    "### Valores inexistentes\n",
    "\n",
    "El archivo que contiene los datos de 2015 tiene algunos agujeros por errores de medida. Como alternativa a `loadtxt`, podremos usar la función `genfromtxt`, teniendo en cuenta que ahora el argumento opcional de saltar líneas pasa a llamarse `skip_header`."
   ]
  },
  {
   "cell_type": "code",
   "execution_count": 8,
   "metadata": {},
   "outputs": [
    {
     "name": "stdout",
     "output_type": "stream",
     "text": [
      "[[5.00e-01 6.50e+01 7.00e+00]\n",
      " [4.00e-01 5.00e+01 7.00e+00]\n",
      " [3.00e-01 3.70e+01 1.10e+01]\n",
      " [3.00e-01 3.70e+01 1.00e+01]\n",
      " [3.00e-01 2.90e+01 1.70e+01]\n",
      " [3.00e-01 3.60e+01 1.30e+01]\n",
      " [3.00e-01 4.70e+01 7.00e+00]\n",
      " [4.00e-01 5.70e+01 6.00e+00]\n",
      " [5.00e-01 6.70e+01 6.00e+00]\n",
      " [5.00e-01 6.90e+01 8.00e+00]\n",
      " [5.00e-01 6.70e+01 1.10e+01]\n",
      " [5.00e-01 6.40e+01 1.50e+01]\n",
      " [5.00e-01 6.50e+01 2.10e+01]\n",
      " [5.00e-01 6.80e+01 2.40e+01]\n",
      " [7.00e-01 9.10e+01 1.90e+01]\n",
      " [8.00e-01 1.05e+02 1.30e+01]\n",
      " [8.00e-01 1.02e+02 1.00e+01]\n",
      " [7.00e-01 1.00e+02 8.00e+00]\n",
      " [1.50e+00 1.48e+02 7.00e+00]\n",
      " [2.70e+00 2.23e+02 7.00e+00]\n",
      " [2.00e+00 2.04e+02 7.00e+00]\n",
      " [3.30e+00 2.51e+02 7.00e+00]\n",
      " [3.00e+00 2.64e+02 7.00e+00]\n",
      " [2.00e+00 2.04e+02 7.00e+00]\n",
      " [1.20e+00 1.27e+02 6.00e+00]\n",
      " [4.00e-01 6.10e+01 7.00e+00]\n",
      " [3.00e-01 4.60e+01 9.00e+00]\n",
      " [3.00e-01 4.70e+01 7.00e+00]\n",
      " [5.00e-01 4.40e+01 6.00e+00]\n",
      " [5.00e-01 4.50e+01 6.00e+00]\n",
      " [5.00e-01 4.60e+01 6.00e+00]\n",
      " [4.00e-01 5.30e+01 6.00e+00]\n",
      " [5.00e-01 6.90e+01 6.00e+00]\n",
      " [9.00e-01 9.00e+01 7.00e+00]\n",
      " [4.00e-01 5.10e+01 1.10e+01]\n",
      " [4.00e-01 5.20e+01 1.60e+01]\n",
      " [4.00e-01 5.60e+01 2.00e+01]\n",
      " [4.00e-01 5.90e+01 2.70e+01]\n",
      " [4.00e-01 6.60e+01 2.50e+01]\n",
      " [6.00e-01 7.80e+01 2.00e+01]\n",
      " [7.00e-01 9.60e+01 1.10e+01]\n",
      " [7.00e-01 9.70e+01 7.00e+00]\n",
      " [1.00e+00 1.17e+02 7.00e+00]\n",
      " [1.70e+00 1.58e+02 7.00e+00]\n",
      " [2.80e+00 2.35e+02 8.00e+00]\n",
      " [3.20e+00 2.68e+02 7.00e+00]\n",
      " [3.40e+00 2.81e+02 7.00e+00]\n",
      " [2.10e+00 1.89e+02 7.00e+00]\n",
      " [7.00e-01 8.80e+01 6.00e+00]\n",
      " [4.00e-01 6.60e+01 6.00e+00]\n",
      " [6.00e-01 6.10e+01 6.00e+00]\n",
      " [6.00e-01 5.90e+01 6.00e+00]\n",
      " [5.00e-01 4.50e+01 6.00e+00]\n",
      " [6.00e-01 5.00e+01 6.00e+00]\n",
      " [7.00e-01 5.20e+01 6.00e+00]\n",
      " [7.00e-01 5.10e+01 6.00e+00]\n",
      " [1.00e+00 6.20e+01 6.00e+00]\n",
      " [9.00e-01 6.40e+01 6.00e+00]\n",
      " [8.00e-01 6.80e+01 7.00e+00]\n",
      " [9.00e-01 7.30e+01 8.00e+00]\n",
      " [     nan      nan      nan]\n",
      " [7.00e-01 6.90e+01 1.40e+01]\n",
      " [6.00e-01 6.80e+01 1.50e+01]\n",
      " [7.00e-01 7.50e+01 1.10e+01]\n",
      " [6.00e-01 6.70e+01 9.00e+00]\n",
      " [6.00e-01 7.00e+01 7.00e+00]\n",
      " [9.00e-01 8.40e+01 7.00e+00]\n",
      " [1.00e+00 9.20e+01 7.00e+00]\n",
      " [1.30e+00 1.08e+02 7.00e+00]\n",
      " [1.50e+00 1.35e+02 7.00e+00]\n",
      " [1.20e+00 1.16e+02 7.00e+00]\n",
      " [1.30e+00 1.04e+02 7.00e+00]\n",
      " [1.00e+00 8.00e+01 7.00e+00]\n",
      " [6.00e-01 6.30e+01 6.00e+00]\n",
      " [4.00e-01 5.10e+01 6.00e+00]\n",
      " [4.00e-01 4.50e+01 6.00e+00]\n",
      " [5.00e-01 4.60e+01 6.00e+00]\n",
      " [5.00e-01 4.00e+01 6.00e+00]\n",
      " [6.00e-01 3.50e+01 6.00e+00]\n",
      " [4.00e-01 3.90e+01 6.00e+00]\n",
      " [3.00e-01 3.30e+01 9.00e+00]\n",
      " [3.00e-01 2.80e+01 1.20e+01]\n",
      " [3.00e-01 2.10e+01 2.20e+01]\n",
      " [3.00e-01 2.50e+01 2.80e+01]\n",
      " [3.00e-01 2.60e+01 3.70e+01]\n",
      " [3.00e-01 3.20e+01 4.20e+01]\n",
      " [4.00e-01 4.10e+01 4.20e+01]\n",
      " [5.00e-01 5.80e+01 3.00e+01]\n",
      " [6.00e-01 7.20e+01 1.70e+01]\n",
      " [5.00e-01 7.10e+01 1.20e+01]\n",
      " [1.00e+00 1.08e+02 7.00e+00]\n",
      " [1.70e+00 1.65e+02 7.00e+00]\n",
      " [2.00e+00 1.86e+02 7.00e+00]\n",
      " [2.00e+00 1.80e+02 7.00e+00]\n",
      " [1.80e+00 1.78e+02 7.00e+00]\n",
      " [5.00e-01 7.10e+01 8.00e+00]\n",
      " [4.00e-01 4.30e+01 1.70e+01]\n",
      " [3.00e-01 3.60e+01 2.20e+01]\n",
      " [3.00e-01 3.20e+01 2.50e+01]\n",
      " [3.00e-01 2.80e+01 2.50e+01]\n",
      " [3.00e-01 2.30e+01 2.90e+01]\n",
      " [3.00e-01 2.70e+01 2.50e+01]\n",
      " [4.00e-01 3.50e+01 1.20e+01]\n",
      " [3.00e-01 4.10e+01 1.00e+01]\n",
      " [6.00e-01 5.30e+01 6.00e+00]\n",
      " [9.00e-01 6.10e+01 6.00e+00]\n",
      " [6.00e-01 5.80e+01 1.10e+01]\n",
      " [5.00e-01 5.00e+01 1.50e+01]\n",
      " [5.00e-01 5.00e+01 2.00e+01]\n",
      " [6.00e-01 4.90e+01 2.30e+01]\n",
      " [5.00e-01 6.00e+01 2.00e+01]\n",
      " [6.00e-01 6.60e+01 1.80e+01]\n",
      " [5.00e-01 6.40e+01 1.90e+01]\n",
      " [5.00e-01 7.40e+01 1.10e+01]\n",
      " [8.00e-01 1.05e+02 7.00e+00]\n",
      " [1.50e+00 1.54e+02 7.00e+00]\n",
      " [1.10e+00 1.36e+02 7.00e+00]\n",
      " [6.00e-01 8.00e+01 7.00e+00]\n",
      " [6.00e-01 7.40e+01 7.00e+00]\n",
      " [5.00e-01 5.50e+01 9.00e+00]\n",
      " [4.00e-01 4.20e+01 1.30e+01]\n",
      " [3.00e-01 4.10e+01 1.40e+01]\n",
      " [3.00e-01 3.70e+01 1.60e+01]\n",
      " [3.00e-01 3.30e+01 1.90e+01]\n",
      " [3.00e-01 3.20e+01 1.90e+01]\n",
      " [2.00e-01 3.10e+01 2.20e+01]\n",
      " [3.00e-01 2.40e+01 3.00e+01]\n",
      " [3.00e-01 3.50e+01 2.10e+01]\n",
      " [3.00e-01 3.20e+01 2.50e+01]\n",
      " [4.00e-01 3.70e+01 2.70e+01]\n",
      " [4.00e-01 4.20e+01 2.30e+01]\n",
      " [3.00e-01 3.30e+01 3.90e+01]\n",
      " [3.00e-01 2.70e+01 5.10e+01]\n",
      " [3.00e-01 2.50e+01 5.40e+01]\n",
      " [3.00e-01 2.90e+01 5.00e+01]\n",
      " [3.00e-01 3.20e+01 4.60e+01]\n",
      " [3.00e-01 3.00e+01 4.90e+01]\n",
      " [3.00e-01 3.40e+01 4.40e+01]\n",
      " [4.00e-01 5.40e+01 2.40e+01]\n",
      " [4.00e-01 5.40e+01 2.30e+01]\n",
      " [4.00e-01 5.20e+01 2.20e+01]\n",
      " [4.00e-01 5.50e+01 2.10e+01]\n",
      " [4.00e-01 5.50e+01 1.90e+01]\n",
      " [3.00e-01 3.20e+01 3.60e+01]\n",
      " [3.00e-01 2.80e+01 3.70e+01]\n",
      " [3.00e-01 3.60e+01 2.70e+01]\n",
      " [3.00e-01 4.60e+01 1.60e+01]\n",
      " [3.00e-01 3.10e+01 2.80e+01]\n",
      " [2.00e-01 2.90e+01 2.90e+01]\n",
      " [2.00e-01 2.60e+01 3.40e+01]\n",
      " [3.00e-01 3.70e+01 2.50e+01]\n",
      " [4.00e-01 6.20e+01 8.00e+00]\n",
      " [6.00e-01 6.50e+01 1.00e+01]\n",
      " [4.00e-01 6.60e+01 1.10e+01]\n",
      " [4.00e-01 6.00e+01 1.70e+01]\n",
      " [5.00e-01 4.00e+01 3.70e+01]\n",
      " [4.00e-01 5.20e+01 3.20e+01]\n",
      " [3.00e-01 4.20e+01 4.30e+01]\n",
      " [3.00e-01 4.90e+01 3.60e+01]\n",
      " [4.00e-01 5.30e+01 2.70e+01]\n",
      " [4.00e-01 6.10e+01 1.40e+01]\n",
      " [6.00e-01 7.70e+01 9.00e+00]\n",
      " [5.00e-01 7.70e+01 8.00e+00]\n",
      " [5.00e-01 7.60e+01 1.00e+01]\n",
      " [5.00e-01 7.70e+01 8.00e+00]\n",
      " [4.00e-01 6.10e+01 1.70e+01]\n",
      " [3.00e-01 4.80e+01 2.50e+01]\n",
      " [3.00e-01 3.00e+01 3.90e+01]\n",
      " [2.00e-01 1.60e+01 4.80e+01]\n",
      " [2.00e-01 1.10e+01 5.30e+01]\n",
      " [2.00e-01 8.00e+00 5.60e+01]\n",
      " [2.00e-01 7.00e+00 5.50e+01]\n",
      " [2.00e-01 1.00e+01 4.90e+01]\n",
      " [2.00e-01 1.40e+01 4.90e+01]\n",
      " [3.00e-01 3.50e+01 2.90e+01]\n",
      " [4.00e-01 5.10e+01 1.50e+01]\n",
      " [4.00e-01 6.20e+01 8.00e+00]\n",
      " [5.00e-01 6.30e+01 9.00e+00]\n",
      " [4.00e-01 5.00e+01 1.60e+01]\n",
      " [     nan      nan 1.40e+01]\n",
      " [     nan      nan 1.20e+01]\n",
      " [5.00e-01 6.00e+01      nan]\n",
      " [5.00e-01 6.50e+01 2.00e+01]\n",
      " [5.00e-01 6.20e+01 2.20e+01]\n",
      " [4.00e-01 5.10e+01 2.70e+01]\n",
      " [5.00e-01 6.10e+01 1.20e+01]\n",
      " [5.00e-01 6.10e+01 1.00e+01]\n",
      " [4.00e-01 5.40e+01 2.00e+01]\n",
      " [4.00e-01 5.40e+01 2.20e+01]\n",
      " [3.00e-01 4.00e+01 3.10e+01]\n",
      " [3.00e-01 3.00e+01 3.80e+01]\n",
      " [3.00e-01 2.40e+01 4.30e+01]]\n"
     ]
    }
   ],
   "source": [
    "#Loading the data 2:\n",
    "#../data/barrio_del_pilar-20151222.csv\n",
    "data2 = np.genfromtxt('../data/barrio_del_pilar-20151222.csv', skip_header=3, delimiter=';', usecols=(2,3,4))\n",
    "data2[:10,:]\n",
    "print(data2)"
   ]
  },
  {
   "cell_type": "markdown",
   "metadata": {},
   "source": [
    "Podemos comprobar como afecta la existencia de estos valores a algunas funciones de Numpy, como `np.mean`. A veces es posible esquivar estos problemas con otras funciones como `np.nanmean`."
   ]
  },
  {
   "cell_type": "code",
   "execution_count": 7,
   "metadata": {},
   "outputs": [
    {
     "data": {
      "text/plain": [
       "array([nan, nan, nan])"
      ]
     },
     "execution_count": 7,
     "metadata": {},
     "output_type": "execute_result"
    }
   ],
   "source": [
    "np.mean(data2, axis=0)"
   ]
  },
  {
   "cell_type": "code",
   "execution_count": 48,
   "metadata": {
    "scrolled": true
   },
   "outputs": [
    {
     "data": {
      "text/plain": [
       "array([ 0.64179894, 67.57671958, 17.3       ])"
      ]
     },
     "execution_count": 48,
     "metadata": {},
     "output_type": "execute_result"
    }
   ],
   "source": [
    "np.nanmean(data2, axis=0)"
   ]
  },
  {
   "cell_type": "markdown",
   "metadata": {},
   "source": [
    "Probemos calcular la diferencia entre ambos años:"
   ]
  },
  {
   "cell_type": "code",
   "execution_count": 10,
   "metadata": {},
   "outputs": [
    {
     "data": {
      "text/plain": [
       "array([[ -0.3, -51. ,  66. ],\n",
       "       [ -0.2, -40. ,  70. ],\n",
       "       [ -0.1, -28. ,  64. ],\n",
       "       [ -0.1, -34. ,  71. ],\n",
       "       [ -0.1, -26. ,  64. ],\n",
       "       [ -0.1, -30. ,  66. ],\n",
       "       [ -0.1, -23. ,  52. ],\n",
       "       [ -0.1,  -9. ,  31. ],\n",
       "       [ -0.2, -27. ,  37. ],\n",
       "       [ -0.2, -28. ,  36. ]])"
      ]
     },
     "execution_count": 10,
     "metadata": {},
     "output_type": "execute_result"
    }
   ],
   "source": [
    "data_dif = data1 - data2\n",
    "data_dif[:10,:]"
   ]
  },
  {
   "cell_type": "markdown",
   "metadata": {},
   "source": [
    "### Guardar los datos nuevos\n",
    "\n",
    "Supongamos que ahora queremos guardar nuestra tabla de datos en un archivo txt, para poder cargarlo ya modificado más adelante. Una manera fácil de hacerlo sería con otra función de NumPy: `np.savetxt`. Lo usaremos con los argumentos opcionales `fmt='%9.3f', newline = '\\r\\n'` para obtener un archivo ordenado que podamos entender de un vistazo."
   ]
  },
  {
   "cell_type": "code",
   "execution_count": 11,
   "metadata": {},
   "outputs": [],
   "source": [
    "np.savetxt('../data/diferencia_interanual.txt', data_dif, fmt='%9.3f', newline = '\\r\\n')"
   ]
  },
  {
   "cell_type": "markdown",
   "metadata": {},
   "source": [
    "### Graficando los datos"
   ]
  },
  {
   "cell_type": "markdown",
   "metadata": {},
   "source": [
    "* NO2\n",
    "    - Media anual: 40 µg/m3\n",
    "    - Media horaria: 200 µg/m3"
   ]
  },
  {
   "cell_type": "code",
   "execution_count": 12,
   "metadata": {},
   "outputs": [
    {
     "data": {
      "text/plain": [
       "(0, 220)"
      ]
     },
     "execution_count": 12,
     "metadata": {},
     "output_type": "execute_result"
    },
    {
     "data": {
      "image/png": "[encoded data removed]",
      "text/plain": [
       "<Figure size 432x288 with 1 Axes>"
      ]
     },
     "metadata": {
      "needs_background": "light"
     },
     "output_type": "display_data"
    }
   ],
   "source": [
    "plt.plot(data1[:, 1], label='2016')\n",
    "plt.plot(data2[:, 1], label='2015')\n",
    "\n",
    "plt.legend()\n",
    "\n",
    "plt.hlines(200, 0, 200, linestyles='--')\n",
    "plt.hlines(40, 0, 200, linestyles='--')\n",
    "plt.ylim(0, 220)"
   ]
  },
  {
   "cell_type": "markdown",
   "metadata": {},
   "source": [
    "## ¿Cómo leeríamos un archivo sin usar NumPy?"
   ]
  },
  {
   "cell_type": "code",
   "execution_count": 52,
   "metadata": {},
   "outputs": [],
   "source": [
    "data_file = '../data/barrio_del_pilar-20151222.csv'"
   ]
  },
  {
   "cell_type": "code",
   "execution_count": 53,
   "metadata": {},
   "outputs": [
    {
     "name": "stdout",
     "output_type": "stream",
     "text": [
      "[[5.00e-01 6.50e+01 7.00e+00]\n",
      " [4.00e-01 5.00e+01 7.00e+00]\n",
      " [3.00e-01 3.70e+01 1.10e+01]\n",
      " [3.00e-01 3.70e+01 1.00e+01]\n",
      " [3.00e-01 2.90e+01 1.70e+01]\n",
      " [3.00e-01 3.60e+01 1.30e+01]\n",
      " [3.00e-01 4.70e+01 7.00e+00]\n",
      " [4.00e-01 5.70e+01 6.00e+00]\n",
      " [5.00e-01 6.70e+01 6.00e+00]\n",
      " [5.00e-01 6.90e+01 8.00e+00]\n",
      " [5.00e-01 6.70e+01 1.10e+01]\n",
      " [5.00e-01 6.40e+01 1.50e+01]\n",
      " [5.00e-01 6.50e+01 2.10e+01]\n",
      " [5.00e-01 6.80e+01 2.40e+01]\n",
      " [7.00e-01 9.10e+01 1.90e+01]\n",
      " [8.00e-01 1.05e+02 1.30e+01]\n",
      " [8.00e-01 1.02e+02 1.00e+01]\n",
      " [7.00e-01 1.00e+02 8.00e+00]\n",
      " [1.50e+00 1.48e+02 7.00e+00]\n",
      " [2.70e+00 2.23e+02 7.00e+00]\n",
      " [2.00e+00 2.04e+02 7.00e+00]\n",
      " [3.30e+00 2.51e+02 7.00e+00]\n",
      " [3.00e+00 2.64e+02 7.00e+00]\n",
      " [2.00e+00 2.04e+02 7.00e+00]\n",
      " [1.20e+00 1.27e+02 6.00e+00]\n",
      " [4.00e-01 6.10e+01 7.00e+00]\n",
      " [3.00e-01 4.60e+01 9.00e+00]\n",
      " [3.00e-01 4.70e+01 7.00e+00]\n",
      " [5.00e-01 4.40e+01 6.00e+00]\n",
      " [5.00e-01 4.50e+01 6.00e+00]\n",
      " [5.00e-01 4.60e+01 6.00e+00]\n",
      " [4.00e-01 5.30e+01 6.00e+00]\n",
      " [5.00e-01 6.90e+01 6.00e+00]\n",
      " [9.00e-01 9.00e+01 7.00e+00]\n",
      " [4.00e-01 5.10e+01 1.10e+01]\n",
      " [4.00e-01 5.20e+01 1.60e+01]\n",
      " [4.00e-01 5.60e+01 2.00e+01]\n",
      " [4.00e-01 5.90e+01 2.70e+01]\n",
      " [4.00e-01 6.60e+01 2.50e+01]\n",
      " [6.00e-01 7.80e+01 2.00e+01]\n",
      " [7.00e-01 9.60e+01 1.10e+01]\n",
      " [7.00e-01 9.70e+01 7.00e+00]\n",
      " [1.00e+00 1.17e+02 7.00e+00]\n",
      " [1.70e+00 1.58e+02 7.00e+00]\n",
      " [2.80e+00 2.35e+02 8.00e+00]\n",
      " [3.20e+00 2.68e+02 7.00e+00]\n",
      " [3.40e+00 2.81e+02 7.00e+00]\n",
      " [2.10e+00 1.89e+02 7.00e+00]\n",
      " [7.00e-01 8.80e+01 6.00e+00]\n",
      " [4.00e-01 6.60e+01 6.00e+00]\n",
      " [6.00e-01 6.10e+01 6.00e+00]\n",
      " [6.00e-01 5.90e+01 6.00e+00]\n",
      " [5.00e-01 4.50e+01 6.00e+00]\n",
      " [6.00e-01 5.00e+01 6.00e+00]\n",
      " [7.00e-01 5.20e+01 6.00e+00]\n",
      " [7.00e-01 5.10e+01 6.00e+00]\n",
      " [1.00e+00 6.20e+01 6.00e+00]\n",
      " [9.00e-01 6.40e+01 6.00e+00]\n",
      " [8.00e-01 6.80e+01 7.00e+00]\n",
      " [9.00e-01 7.30e+01 8.00e+00]\n",
      " [     nan      nan      nan]\n",
      " [7.00e-01 6.90e+01 1.40e+01]\n",
      " [6.00e-01 6.80e+01 1.50e+01]\n",
      " [7.00e-01 7.50e+01 1.10e+01]\n",
      " [6.00e-01 6.70e+01 9.00e+00]\n",
      " [6.00e-01 7.00e+01 7.00e+00]\n",
      " [9.00e-01 8.40e+01 7.00e+00]\n",
      " [1.00e+00 9.20e+01 7.00e+00]\n",
      " [1.30e+00 1.08e+02 7.00e+00]\n",
      " [1.50e+00 1.35e+02 7.00e+00]\n",
      " [1.20e+00 1.16e+02 7.00e+00]\n",
      " [1.30e+00 1.04e+02 7.00e+00]\n",
      " [1.00e+00 8.00e+01 7.00e+00]\n",
      " [6.00e-01 6.30e+01 6.00e+00]\n",
      " [4.00e-01 5.10e+01 6.00e+00]\n",
      " [4.00e-01 4.50e+01 6.00e+00]\n",
      " [5.00e-01 4.60e+01 6.00e+00]\n",
      " [5.00e-01 4.00e+01 6.00e+00]\n",
      " [6.00e-01 3.50e+01 6.00e+00]\n",
      " [4.00e-01 3.90e+01 6.00e+00]\n",
      " [3.00e-01 3.30e+01 9.00e+00]\n",
      " [3.00e-01 2.80e+01 1.20e+01]\n",
      " [3.00e-01 2.10e+01 2.20e+01]\n",
      " [3.00e-01 2.50e+01 2.80e+01]\n",
      " [3.00e-01 2.60e+01 3.70e+01]\n",
      " [3.00e-01 3.20e+01 4.20e+01]\n",
      " [4.00e-01 4.10e+01 4.20e+01]\n",
      " [5.00e-01 5.80e+01 3.00e+01]\n",
      " [6.00e-01 7.20e+01 1.70e+01]\n",
      " [5.00e-01 7.10e+01 1.20e+01]\n",
      " [1.00e+00 1.08e+02 7.00e+00]\n",
      " [1.70e+00 1.65e+02 7.00e+00]\n",
      " [2.00e+00 1.86e+02 7.00e+00]\n",
      " [2.00e+00 1.80e+02 7.00e+00]\n",
      " [1.80e+00 1.78e+02 7.00e+00]\n",
      " [5.00e-01 7.10e+01 8.00e+00]\n",
      " [4.00e-01 4.30e+01 1.70e+01]\n",
      " [3.00e-01 3.60e+01 2.20e+01]\n",
      " [3.00e-01 3.20e+01 2.50e+01]\n",
      " [3.00e-01 2.80e+01 2.50e+01]\n",
      " [3.00e-01 2.30e+01 2.90e+01]\n",
      " [3.00e-01 2.70e+01 2.50e+01]\n",
      " [4.00e-01 3.50e+01 1.20e+01]\n",
      " [3.00e-01 4.10e+01 1.00e+01]\n",
      " [6.00e-01 5.30e+01 6.00e+00]\n",
      " [9.00e-01 6.10e+01 6.00e+00]\n",
      " [6.00e-01 5.80e+01 1.10e+01]\n",
      " [5.00e-01 5.00e+01 1.50e+01]\n",
      " [5.00e-01 5.00e+01 2.00e+01]\n",
      " [6.00e-01 4.90e+01 2.30e+01]\n",
      " [5.00e-01 6.00e+01 2.00e+01]\n",
      " [6.00e-01 6.60e+01 1.80e+01]\n",
      " [5.00e-01 6.40e+01 1.90e+01]\n",
      " [5.00e-01 7.40e+01 1.10e+01]\n",
      " [8.00e-01 1.05e+02 7.00e+00]\n",
      " [1.50e+00 1.54e+02 7.00e+00]\n",
      " [1.10e+00 1.36e+02 7.00e+00]\n",
      " [6.00e-01 8.00e+01 7.00e+00]\n",
      " [6.00e-01 7.40e+01 7.00e+00]\n",
      " [5.00e-01 5.50e+01 9.00e+00]\n",
      " [4.00e-01 4.20e+01 1.30e+01]\n",
      " [3.00e-01 4.10e+01 1.40e+01]\n",
      " [3.00e-01 3.70e+01 1.60e+01]\n",
      " [3.00e-01 3.30e+01 1.90e+01]\n",
      " [3.00e-01 3.20e+01 1.90e+01]\n",
      " [2.00e-01 3.10e+01 2.20e+01]\n",
      " [3.00e-01 2.40e+01 3.00e+01]\n",
      " [3.00e-01 3.50e+01 2.10e+01]\n",
      " [3.00e-01 3.20e+01 2.50e+01]\n",
      " [4.00e-01 3.70e+01 2.70e+01]\n",
      " [4.00e-01 4.20e+01 2.30e+01]\n",
      " [3.00e-01 3.30e+01 3.90e+01]\n",
      " [3.00e-01 2.70e+01 5.10e+01]\n",
      " [3.00e-01 2.50e+01 5.40e+01]\n",
      " [3.00e-01 2.90e+01 5.00e+01]\n",
      " [3.00e-01 3.20e+01 4.60e+01]\n",
      " [3.00e-01 3.00e+01 4.90e+01]\n",
      " [3.00e-01 3.40e+01 4.40e+01]\n",
      " [4.00e-01 5.40e+01 2.40e+01]\n",
      " [4.00e-01 5.40e+01 2.30e+01]\n",
      " [4.00e-01 5.20e+01 2.20e+01]\n",
      " [4.00e-01 5.50e+01 2.10e+01]\n",
      " [4.00e-01 5.50e+01 1.90e+01]\n",
      " [3.00e-01 3.20e+01 3.60e+01]\n",
      " [3.00e-01 2.80e+01 3.70e+01]\n",
      " [3.00e-01 3.60e+01 2.70e+01]\n",
      " [3.00e-01 4.60e+01 1.60e+01]\n",
      " [3.00e-01 3.10e+01 2.80e+01]\n",
      " [2.00e-01 2.90e+01 2.90e+01]\n",
      " [2.00e-01 2.60e+01 3.40e+01]\n",
      " [3.00e-01 3.70e+01 2.50e+01]\n",
      " [4.00e-01 6.20e+01 8.00e+00]\n",
      " [6.00e-01 6.50e+01 1.00e+01]\n",
      " [4.00e-01 6.60e+01 1.10e+01]\n",
      " [4.00e-01 6.00e+01 1.70e+01]\n",
      " [5.00e-01 4.00e+01 3.70e+01]\n",
      " [4.00e-01 5.20e+01 3.20e+01]\n",
      " [3.00e-01 4.20e+01 4.30e+01]\n",
      " [3.00e-01 4.90e+01 3.60e+01]\n",
      " [4.00e-01 5.30e+01 2.70e+01]\n",
      " [4.00e-01 6.10e+01 1.40e+01]\n",
      " [6.00e-01 7.70e+01 9.00e+00]\n",
      " [5.00e-01 7.70e+01 8.00e+00]\n",
      " [5.00e-01 7.60e+01 1.00e+01]\n",
      " [5.00e-01 7.70e+01 8.00e+00]\n",
      " [4.00e-01 6.10e+01 1.70e+01]\n",
      " [3.00e-01 4.80e+01 2.50e+01]\n",
      " [3.00e-01 3.00e+01 3.90e+01]\n",
      " [2.00e-01 1.60e+01 4.80e+01]\n",
      " [2.00e-01 1.10e+01 5.30e+01]\n",
      " [2.00e-01 8.00e+00 5.60e+01]\n",
      " [2.00e-01 7.00e+00 5.50e+01]\n",
      " [2.00e-01 1.00e+01 4.90e+01]\n",
      " [2.00e-01 1.40e+01 4.90e+01]\n",
      " [3.00e-01 3.50e+01 2.90e+01]\n",
      " [4.00e-01 5.10e+01 1.50e+01]\n",
      " [4.00e-01 6.20e+01 8.00e+00]\n",
      " [5.00e-01 6.30e+01 9.00e+00]\n",
      " [4.00e-01 5.00e+01 1.60e+01]\n",
      " [     nan      nan 1.40e+01]\n",
      " [     nan      nan 1.20e+01]\n",
      " [5.00e-01 6.00e+01      nan]\n",
      " [5.00e-01 6.50e+01 2.00e+01]\n",
      " [5.00e-01 6.20e+01 2.20e+01]\n",
      " [4.00e-01 5.10e+01 2.70e+01]\n",
      " [5.00e-01 6.10e+01 1.20e+01]\n",
      " [5.00e-01 6.10e+01 1.00e+01]\n",
      " [4.00e-01 5.40e+01 2.00e+01]\n",
      " [4.00e-01 5.40e+01 2.20e+01]\n",
      " [3.00e-01 4.00e+01 3.10e+01]\n",
      " [3.00e-01 3.00e+01 3.80e+01]\n",
      " [3.00e-01 2.40e+01 4.30e+01]]\n"
     ]
    }
   ],
   "source": [
    "data = []\n",
    "\n",
    "with open(data_file) as f:\n",
    "    # Saltamos las tres primeras líneas\n",
    "    for ii in range(3):\n",
    "        f.readline()\n",
    "    \n",
    "    for line in f:\n",
    "        line_string = line\n",
    "        line_list = line.split(';')\n",
    "        \n",
    "        date = line_list[0]\n",
    "        hour = line_list[1]\n",
    "        \n",
    "        components_data = []\n",
    "        for c in line_list[2:]:\n",
    "            if '-' not in c:\n",
    "                components_data.append(float(c))\n",
    "            else:\n",
    "                components_data.append(np.nan)\n",
    "        data.append(components_data)\n",
    "        \n",
    "print(np.array(data))    "
   ]
  },
  {
   "cell_type": "markdown",
   "metadata": {},
   "source": [
    "---"
   ]
  },
  {
   "cell_type": "markdown",
   "metadata": {},
   "source": [
    "Si procuramos saber más sobre lectura y escritura de archivos en Python, podemos consultar la documentación oficial:\n",
    "\n",
    "https://docs.python.org/3.6/tutorial/inputoutput.html#reading-and-writing-files"
   ]
  },
  {
   "cell_type": "code",
   "execution_count": 1,
   "metadata": {},
   "outputs": [
    {
     "data": {
      "text/html": [
       "\n",
       "<link href='http://fonts.googleapis.com/css?family=Source+Sans+Pro|Josefin+Sans:400,700,400italic|Ubuntu+Condensed' rel='stylesheet' type='text/css'>\n",
       "\n",
       "El estilo se ha aplicado =)\n",
       "\n",
       "<style>\n",
       "\n",
       "\n",
       "\n",
       "#notebook_panel { /* main background */\n",
       "    background: #f7f7f7;\n",
       "}\n",
       "\n",
       "div.cell { /* set cell width */\n",
       "    width: 900px;\n",
       "}\n",
       "\n",
       "div #notebook { /* centre the content */\n",
       "    background: #fff; /* white background for content */\n",
       "    width: 950px;\n",
       "    margin: auto;\n",
       "    padding-left: 0em;\n",
       "}\n",
       "\n",
       "#notebook li { /* More space between bullet points */\n",
       "    margin-top:0.7em;\n",
       "}\n",
       "\n",
       "/* draw border around running cells */\n",
       "div.cell.border-box-sizing.code_cell.running { \n",
       "    border: 1px solid #111;\n",
       "}\n",
       "\n",
       "/* Put a solid color box around each cell and its output, visually linking them*/\n",
       "div.cell.code_cell {\n",
       "    background-color: rgb(256,256,256); \n",
       "    border-radius: 0px; \n",
       "    padding: 0.5em;\n",
       "    margin-left:1em;\n",
       "    margin-top: 1em;\n",
       "}\n",
       "\n",
       "\n",
       "div.text_cell_render{\n",
       "    font-family: 'Josefin Sans', serif;\n",
       "    line-height: 145%;\n",
       "    font-size: 125%;\n",
       "    font-weight: 500;\n",
       "    width:750px;\n",
       "    margin-left:auto;\n",
       "    margin-right:auto;\n",
       "}\n",
       "\n",
       "\n",
       "/* Formatting for header cells */\n",
       ".text_cell_render h1, .text_cell_render h2, .text_cell_render h3,\n",
       ".text_cell_render h4, .text_cell_render h5 {\n",
       "    font-family: 'Ubuntu Condensed', sans-serif;\n",
       "}\n",
       "/*\n",
       ".text_cell_render h1 {\n",
       "    font-family: Flux, 'Ubuntu Condensed', serif;\n",
       "    font-style:regular;\n",
       "    font-weight: 400;    \n",
       "    font-size: 30pt;\n",
       "    text-align: center;\n",
       "    line-height: 100%;\n",
       "    color: #335082;\n",
       "    margin-bottom: 0.5em;\n",
       "    margin-top: 0.5em;\n",
       "    display: block;\n",
       "}\n",
       "*/\n",
       ".text_cell_render h1 {\n",
       "    font-weight: 600;\n",
       "    font-size: 35pt;\n",
       "    line-height: 100%;\n",
       "    color: #000000;\n",
       "    margin-bottom: 0.1em;\n",
       "    margin-top: 0.3em;\n",
       "    display: block;\n",
       "}\n",
       "\n",
       ".text_cell_render h2 {\n",
       "    margin-top:16px;\n",
       "    font-size: 27pt;\n",
       "    font-weight: 550;\n",
       "    margin-bottom: 0.1em;\n",
       "    margin-top: 0.3em;\n",
       "    font-style: regular;\n",
       "    color: #2c6391;\n",
       "}\t\n",
       "\n",
       ".text_cell_render h3 {\n",
       "    font-size: 20pt;\n",
       "    font-weight: 550\n",
       "    text-align: left;\n",
       "    margin-bottom: 0.1em;\n",
       "    margin-top: 0.3em;\n",
       "    font-style: regular;\n",
       "    color:  #387eb8;\n",
       "}\n",
       "\n",
       ".text_cell_render h4 {    /*Use this for captions*/\n",
       "    font-size: 18pt;\n",
       "    font-weight: 450\n",
       "    text-align: left;\n",
       "    margin-bottom: 0.1em;\n",
       "    margin-top: 0.3em;\n",
       "    font-style: regular;\n",
       "    color:  #5797cc;\n",
       "}\n",
       "\n",
       ".text_cell_render h5 {  /*Use this for small titles*/\n",
       "    font-size: 18pt;\n",
       "    font-weight: 550;\n",
       "    color: rgb(163,0,0);\n",
       "    font-style: italic;\n",
       "    margin-bottom: .1em;\n",
       "    margin-top: 0.8em;\n",
       "    display: block;\n",
       "    color:  #b21c0d;\n",
       "}\n",
       "\n",
       ".text_cell_render h6 { /*use this for copyright note*/\n",
       "    font-family: 'Ubuntu Condensed', sans-serif;\n",
       "    font-weight: 300;\n",
       "    font-size: 14pt;\n",
       "    line-height: 100%;\n",
       "    color: #252525;\n",
       "    text-align: right;\n",
       "    margin-bottom: 1px;\n",
       "    margin-top: 1px;\n",
       "}\n",
       "\n",
       "/*\n",
       ".CodeMirror{\n",
       "        font-family: 'Duru Sans', sans-serif;\n",
       "        font-size: 100%;\n",
       "}\n",
       "*/\n",
       "\n",
       "</style>\n",
       "<script>\n",
       "    MathJax.Hub.Config({\n",
       "                        TeX: {\n",
       "                           extensions: [\"AMSmath.js\"],\n",
       "                           equationNumbers: { autoNumber: \"AMS\", useLabelIds: true}\n",
       "                           },\n",
       "                tex2jax: {\n",
       "                    inlineMath: [ ['$','$'], [\"\\\\(\",\"\\\\)\"] ],\n",
       "                    displayMath: [ ['$$','$$'], [\"\\\\[\",\"\\\\]\"] ]\n",
       "                },\n",
       "                displayAlign: 'center', // Change this to 'center' to center equations.\n",
       "                \"HTML-CSS\": {\n",
       "                    styles: {'.MathJax_Display': {\"margin\": 4}}\n",
       "                }\n",
       "        });\n",
       "</script>\n"
      ],
      "text/plain": [
       "<IPython.core.display.HTML object>"
      ]
     },
     "execution_count": 1,
     "metadata": {},
     "output_type": "execute_result"
    }
   ],
   "source": [
    "# Esta celda da el estilo al notebook\n",
    "from IPython.core.display import HTML\n",
    "css_file = '../styles/aeropython.css'\n",
    "HTML(open(css_file, \"r\").read())"
   ]
  },
  {
   "cell_type": "code",
   "execution_count": null,
   "metadata": {},
   "outputs": [],
   "source": []
  }
 ],
 "metadata": {
  "anaconda-cloud": {},
  "kernelspec": {
   "display_name": "Python 3",
   "language": "python",
   "name": "python3"
  },
  "language_info": {
   "codemirror_mode": {
    "name": "ipython",
    "version": 3
   },
   "file_extension": ".py",
   "mimetype": "text/x-python",
   "name": "python",
   "nbconvert_exporter": "python",
   "pygments_lexer": "ipython3",
   "version": "3.7.7"
  }
 },
 "nbformat": 4,
 "nbformat_minor": 1
}
